{
 "metadata": {
  "name": "fitsdata"
 },
 "nbformat": 3,
 "nbformat_minor": 0,
 "worksheets": [
  {
   "cells": [
    {
     "cell_type": "code",
     "collapsed": false,
     "input": [
      "import pyfits\n",
      "import numpy as np"
     ],
     "language": "python",
     "metadata": {},
     "outputs": [],
     "prompt_number": 4
    },
    {
     "cell_type": "code",
     "collapsed": false,
     "input": [
      "h = pyfits.open('lib/pyfits/tests/data/scale.fits')\n",
      "h.info()"
     ],
     "language": "python",
     "metadata": {},
     "outputs": [
      {
       "output_type": "stream",
       "stream": "stdout",
       "text": [
        "Filename: lib/pyfits/tests/data/scale.fits\n",
        "No.    Name         Type      Cards   Dimensions   Format\n",
        "0    PRIMARY     PrimaryHDU      36   (20, 21)     int16   \n"
       ]
      }
     ],
     "prompt_number": 2
    },
    {
     "cell_type": "code",
     "collapsed": false,
     "input": [
      "h[0]._header"
     ],
     "language": "python",
     "metadata": {},
     "outputs": [
      {
       "output_type": "pyout",
       "prompt_number": 3,
       "text": [
        "SIMPLE  =                    T                                                  \n",
        "BITPIX  =                   16                                                  \n",
        "NAXIS   =                    2                                                  \n",
        "NAXIS1  =                   20                                                  \n",
        "NAXIS2  =                   21                                                  \n",
        "EXTEND  =                    T / FITS dataset may contain extensions            \n",
        "COMMENT   FITS (Flexible Image Transport System) format is defined in 'Astronomy\n",
        "COMMENT   and Astrophysics', volume 376, page 359; bibcode: 2001A&A...376..359H \n",
        "COMMENT                                                                         \n",
        "COMMENT    This mosaic was created using Montage v3.0                           \n",
        "COMMENT                                                                         \n",
        "COMMENT    Montage is maintained by the NASA Infrared Science Archive (IRSA),   \n",
        "COMMENT    part of the Infrared Processing and Analysis Center (IPAC):          \n",
        "COMMENT                                                                         \n",
        "COMMENT       http://montage.ipac.caltech.edu                                   \n",
        "COMMENT       http://irsa.ipac.caltech.edu                                      \n",
        "COMMENT                                                                         \n",
        "COMMENT    The mosaic was created using science-quality data and algorithms     \n",
        "COMMENT    but the results are not endorsed by the original data providers.     \n",
        "COMMENT                                                                         \n",
        "DATASET = '2MASS   '                                                            \n",
        "BAND    = 'H       '                                                            \n",
        "CDATE   = 'Wed Feb 25 11:57:05 2009'                                            \n",
        "CTYPE1  = 'RA---TAN'                                                            \n",
        "CTYPE2  = 'DEC--TAN'                                                            \n",
        "CRVAL1  =           266.400000                                                  \n",
        "CRVAL2  =           -28.933330                                                  \n",
        "CRPIX1  =                 361.                                                  \n",
        "CRPIX2  =                360.5                                                  \n",
        "CDELT1  =         -0.001388889                                                  \n",
        "CDELT2  =          0.001388889                                                  \n",
        "CROTA2  =             0.000000                                                  \n",
        "EQUINOX =               2000.0                                                  \n",
        "MAGZP   =              20.4871                                                  \n",
        "BZERO   =               1500.0                                                  \n",
        "BSCALE  =    0.045777764213996                                                  "
       ]
      }
     ],
     "prompt_number": 3
    },
    {
     "cell_type": "code",
     "collapsed": false,
     "input": [
      "h[0].data[:2]"
     ],
     "language": "python",
     "metadata": {},
     "outputs": [
      {
       "output_type": "pyout",
       "prompt_number": 241,
       "text": [
        "array([[ 557.75628662,  520.03540039,  511.61230469,  509.82696533,\n",
        "         508.91137695,  556.10827637,  501.35809326,  520.5847168 ,\n",
        "         511.38342285,  504.2878418 ,  509.7354126 ,  517.28875732,\n",
        "         525.98651123,  566.17938232,  511.33764648,  509.36920166,\n",
        "         508.45361328,  522.37005615,  527.86340332,  498.38250732],\n",
        "       [ 502.68560791,  498.840271  ,  509.41497803,  509.55230713,\n",
        "         502.54827881,  501.35809326,  506.71405029,  497.14654541,\n",
        "         499.93896484,  541.73406982,  496.59716797,  503.60119629,\n",
        "         507.72119141,  518.25006104,  513.35186768,  500.85449219,\n",
        "         507.49230957,  523.37719727,  505.29498291,  510.33050537]], dtype=float32)"
       ]
      }
     ],
     "prompt_number": 241
    },
    {
     "cell_type": "code",
     "collapsed": false,
     "input": [
      "transformation = lambda v: 1500.0 + 0.045777764213996 * v\n",
      "\n",
      "class FitsData(np.ndarray):\n",
      "    _default_bscale = 1.0\n",
      "    _default_bzero = 0.0\n",
      "    \n",
      "    def __new__(subtype, data, bscale=None, bzero=None):\n",
      "\n",
      "        self = super(FitsData, subtype).__new__(subtype, data.shape, data.dtype, data.data)\n",
      "        self._raw = data\n",
      "        self._bscale = bscale\n",
      "        self._bzero = bzero\n",
      "        \n",
      "        return self\n",
      "    \n",
      "    #def __array__(self):\n",
      "    #    #print 'Calling __array__'\n",
      "    #    return self.transformation(self.data)\n",
      "    \n",
      "    def __array_finalize__(self, obj):\n",
      "        print 'Calling __array_finalize__', type(obj)\n",
      "        if isinstance(obj, self.__class__):\n",
      "            self._bscale = obj._bscale\n",
      "            self._bzero = obj._bzero\n",
      "        elif obj is not None:\n",
      "            self._bscale = None\n",
      "            self._bzero = None\n",
      "    \n",
      "    def __getitem__(self, index):\n",
      "    #    print 'Calling __getitem__(%s)' % repr(index)\n",
      "        data = self.raw[index]\n",
      "        return self.__class__(data, bscale=self._bscale, bzero=self._bzero)\n",
      "    \n",
      "    @property\n",
      "    def data(self):\n",
      "        return self.raw * self._bscale + self._bzero\n",
      "        \n",
      "    @property\n",
      "    def raw(self):\n",
      "        return self._raw\n",
      "    \n",
      "    @property\n",
      "    def dtype(self):\n",
      "        return np.dtype('float64')\n",
      "    \n",
      "    @property\n",
      "    def bscale(self):\n",
      "        return self._bscale\n",
      "        \n",
      "    @property\n",
      "    def bzero(self):\n",
      "        return self._bzero"
     ],
     "language": "python",
     "metadata": {},
     "outputs": [],
     "prompt_number": 768
    },
    {
     "cell_type": "code",
     "collapsed": false,
     "input": [
      "h2 = pyfits.open('lib/pyfits/tests/data/scale.fits', do_not_scale_image_data=True)"
     ],
     "language": "python",
     "metadata": {},
     "outputs": [],
     "prompt_number": 769
    },
    {
     "cell_type": "code",
     "collapsed": false,
     "input": [
      "data = h2[0].data\n",
      "scaled = FitsData(data, bscale=0.045777764213996, bzero=1500.0)"
     ],
     "language": "python",
     "metadata": {},
     "outputs": [
      {
       "output_type": "stream",
       "stream": "stdout",
       "text": [
        "Calling __array_finalize__ <type 'NoneType'>\n"
       ]
      }
     ],
     "prompt_number": 770
    },
    {
     "cell_type": "code",
     "collapsed": false,
     "input": [
      "scaled.bscale, scaled.bzero, scaled[0,0].data"
     ],
     "language": "python",
     "metadata": {},
     "outputs": [
      {
       "output_type": "stream",
       "stream": "stdout",
       "text": [
        "Calling __array_finalize__ <type 'NoneType'>\n",
        "I AM HERE\n"
       ]
      },
      {
       "output_type": "pyout",
       "prompt_number": 772,
       "text": [
        "(0.045777764213996, 1500.0, 557.75627918332032)"
       ]
      }
     ],
     "prompt_number": 772
    },
    {
     "cell_type": "code",
     "collapsed": false,
     "input": [
      "x = scaled[0]"
     ],
     "language": "python",
     "metadata": {},
     "outputs": [
      {
       "output_type": "stream",
       "stream": "stdout",
       "text": [
        "Calling __array_finalize__ <type 'NoneType'>\n"
       ]
      }
     ],
     "prompt_number": 754
    },
    {
     "cell_type": "code",
     "collapsed": false,
     "input": [
      "x.bzero"
     ],
     "language": "python",
     "metadata": {},
     "outputs": [
      {
       "output_type": "pyout",
       "prompt_number": 755,
       "text": [
        "1500.0"
       ]
      }
     ],
     "prompt_number": 755
    },
    {
     "cell_type": "code",
     "collapsed": false,
     "input": [
      "scaled.dtype"
     ],
     "language": "python",
     "metadata": {},
     "outputs": [
      {
       "output_type": "pyout",
       "prompt_number": 756,
       "text": [
        "dtype('float64')"
       ]
      }
     ],
     "prompt_number": 756
    },
    {
     "cell_type": "code",
     "collapsed": false,
     "input": [
      "x"
     ],
     "language": "python",
     "metadata": {},
     "outputs": [
      {
       "output_type": "stream",
       "stream": "stdout",
       "text": [
        "Calling __array_finalize__ <type 'NoneType'>\n",
        "Calling __array_finalize__ <class '__main__.FitsData'>\n",
        "Calling __array_finalize__ <class '__main__.FitsData'>\n",
        "Calling __array_finalize__ <type 'NoneType'>\n",
        "Calling __array_finalize__ <class '__main__.FitsData'>\n",
        "Calling __array_finalize__ <class '__main__.FitsData'>\n",
        "Calling __array_finalize__ <type 'NoneType'>\n",
        "Calling __array_finalize__ <class '__main__.FitsData'>\n",
        "Calling __array_finalize__ <class '__main__.FitsData'>\n",
        "Calling __array_finalize__ <type 'NoneType'>\n",
        "Calling __array_finalize__ <class '__main__.FitsData'>\n",
        "Calling __array_finalize__ <class '__main__.FitsData'>\n",
        "Calling __array_finalize__ <type 'NoneType'>\n",
        "Calling __array_finalize__ <class '__main__.FitsData'>\n",
        "Calling __array_finalize__ <class '__main__.FitsData'>\n",
        "Calling __array_finalize__ <type 'NoneType'>\n",
        "Calling __array_finalize__ <class '__main__.FitsData'>\n",
        "Calling __array_finalize__ <class '__main__.FitsData'>\n",
        "Calling __array_finalize__ <type 'NoneType'>\n",
        "Calling __array_finalize__ <class '__main__.FitsData'>\n",
        "Calling __array_finalize__ <class '__main__.FitsData'>\n",
        "Calling __array_finalize__ <type 'NoneType'>\n",
        "Calling __array_finalize__ <class '__main__.FitsData'>\n",
        "Calling __array_finalize__ <class '__main__.FitsData'>\n",
        "Calling __array_finalize__ <type 'NoneType'>\n",
        "Calling __array_finalize__ <class '__main__.FitsData'>\n",
        "Calling __array_finalize__ <class '__main__.FitsData'>\n",
        "Calling __array_finalize__ <type 'NoneType'>\n",
        "Calling __array_finalize__ <class '__main__.FitsData'>\n",
        "Calling __array_finalize__ <class '__main__.FitsData'>\n",
        "Calling __array_finalize__ <type 'NoneType'>\n",
        "Calling __array_finalize__ <class '__main__.FitsData'>\n",
        "Calling __array_finalize__ <class '__main__.FitsData'>\n",
        "Calling __array_finalize__ <type 'NoneType'>\n",
        "Calling __array_finalize__ <class '__main__.FitsData'>\n",
        "Calling __array_finalize__ <class '__main__.FitsData'>\n",
        "Calling __array_finalize__ <type 'NoneType'>\n",
        "Calling __array_finalize__ <class '__main__.FitsData'>\n",
        "Calling __array_finalize__ <class '__main__.FitsData'>\n",
        "Calling __array_finalize__ <type 'NoneType'>\n",
        "Calling __array_finalize__ <class '__main__.FitsData'>\n",
        "Calling __array_finalize__ <class '__main__.FitsData'>\n",
        "Calling __array_finalize__ <type 'NoneType'>\n",
        "Calling __array_finalize__ <class '__main__.FitsData'>\n",
        "Calling __array_finalize__ <class '__main__.FitsData'>\n",
        "Calling __array_finalize__ <type 'NoneType'>\n",
        "Calling __array_finalize__ <class '__main__.FitsData'>\n",
        "Calling __array_finalize__ <class '__main__.FitsData'>\n",
        "Calling __array_finalize__ <type 'NoneType'>\n",
        "Calling __array_finalize__ <class '__main__.FitsData'>\n",
        "Calling __array_finalize__ <class '__main__.FitsData'>\n",
        "Calling __array_finalize__ <type 'NoneType'>\n",
        "Calling __array_finalize__ <class '__main__.FitsData'>\n",
        "Calling __array_finalize__ <class '__main__.FitsData'>\n",
        "Calling __array_finalize__ <type 'NoneType'>\n",
        "Calling __array_finalize__ <class '__main__.FitsData'>\n",
        "Calling __array_finalize__ <class '__main__.FitsData'>\n",
        "Calling __array_finalize__ <type 'NoneType'>\n",
        "Calling __array_finalize__ <class '__main__.FitsData'>\n",
        "Calling __array_finalize__ <class '__main__.FitsData'>\n"
       ]
      },
      {
       "output_type": "pyout",
       "prompt_number": 757,
       "text": [
        "FitsData([1525.53283544, 1523.80605799, 1523.42046691, 1523.33873837,\n",
        "       1523.29682629, 1525.4573937 , 1522.95105168, 1523.83120524,\n",
        "       1523.40998889, 1523.08517032, 1523.33454716, 1523.68032177,\n",
        "       1524.07848647, 1525.91842652, 1523.40789329, 1523.31778233,\n",
        "       1523.27587026, 1523.91293378, 1524.16440622, 1522.81483744])"
       ]
      }
     ],
     "prompt_number": 757
    },
    {
     "cell_type": "code",
     "collapsed": false,
     "input": [
      "ss = x[:3]"
     ],
     "language": "python",
     "metadata": {},
     "outputs": [
      {
       "output_type": "stream",
       "stream": "stdout",
       "text": [
        "Calling __array_finalize__ <class '__main__.FitsData'>\n"
       ]
      }
     ],
     "prompt_number": 606
    },
    {
     "cell_type": "code",
     "collapsed": false,
     "input": [
      "ss.shape"
     ],
     "language": "python",
     "metadata": {},
     "outputs": [
      {
       "output_type": "pyout",
       "prompt_number": 605,
       "text": [
        "(3,)"
       ]
      }
     ],
     "prompt_number": 605
    },
    {
     "cell_type": "code",
     "collapsed": false,
     "input": [],
     "language": "python",
     "metadata": {},
     "outputs": []
    }
   ],
   "metadata": {}
  }
 ]
}