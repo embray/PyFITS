{
 "metadata": {
  "name": "fitsdata"
 },
 "nbformat": 3,
 "nbformat_minor": 0,
 "worksheets": [
  {
   "cells": [
    {
     "cell_type": "markdown",
     "metadata": {},
     "source": [
      "Let's make a list of the different types of transformations that need to be performed on FITS data:\n",
      "\n",
      "* For images:\n",
      " * bscale/bzero\n",
      " * treat blank value as nan\n",
      "* For tables\n",
      " * tscale/tzero\n",
      " * tnull\n",
      " * bool ('T'/F' -> True/False)\n",
      " * X and P formats\n",
      " * tdim"
     ]
    },
    {
     "cell_type": "code",
     "collapsed": false,
     "input": [
      "import pyfits\n",
      "import numpy as np"
     ],
     "language": "python",
     "metadata": {},
     "outputs": [],
     "prompt_number": 1
    },
    {
     "cell_type": "code",
     "collapsed": false,
     "input": [
      "h = pyfits.open('lib/pyfits/tests/data/scale.fits')\n",
      "h.info()"
     ],
     "language": "python",
     "metadata": {},
     "outputs": [
      {
       "output_type": "stream",
       "stream": "stdout",
       "text": [
        "Filename: lib/pyfits/tests/data/scale.fits\n",
        "No.    Name         Type      Cards   Dimensions   Format\n",
        "0    PRIMARY     PrimaryHDU      36   (20, 21)     int16   \n"
       ]
      }
     ],
     "prompt_number": 2
    },
    {
     "cell_type": "code",
     "collapsed": false,
     "input": [
      "h[0]._header"
     ],
     "language": "python",
     "metadata": {},
     "outputs": [
      {
       "output_type": "pyout",
       "prompt_number": 3,
       "text": [
        "SIMPLE  =                    T                                                  \n",
        "BITPIX  =                   16                                                  \n",
        "NAXIS   =                    2                                                  \n",
        "NAXIS1  =                   20                                                  \n",
        "NAXIS2  =                   21                                                  \n",
        "EXTEND  =                    T / FITS dataset may contain extensions            \n",
        "COMMENT   FITS (Flexible Image Transport System) format is defined in 'Astronomy\n",
        "COMMENT   and Astrophysics', volume 376, page 359; bibcode: 2001A&A...376..359H \n",
        "COMMENT                                                                         \n",
        "COMMENT    This mosaic was created using Montage v3.0                           \n",
        "COMMENT                                                                         \n",
        "COMMENT    Montage is maintained by the NASA Infrared Science Archive (IRSA),   \n",
        "COMMENT    part of the Infrared Processing and Analysis Center (IPAC):          \n",
        "COMMENT                                                                         \n",
        "COMMENT       http://montage.ipac.caltech.edu                                   \n",
        "COMMENT       http://irsa.ipac.caltech.edu                                      \n",
        "COMMENT                                                                         \n",
        "COMMENT    The mosaic was created using science-quality data and algorithms     \n",
        "COMMENT    but the results are not endorsed by the original data providers.     \n",
        "COMMENT                                                                         \n",
        "DATASET = '2MASS   '                                                            \n",
        "BAND    = 'H       '                                                            \n",
        "CDATE   = 'Wed Feb 25 11:57:05 2009'                                            \n",
        "CTYPE1  = 'RA---TAN'                                                            \n",
        "CTYPE2  = 'DEC--TAN'                                                            \n",
        "CRVAL1  =           266.400000                                                  \n",
        "CRVAL2  =           -28.933330                                                  \n",
        "CRPIX1  =                 361.                                                  \n",
        "CRPIX2  =                360.5                                                  \n",
        "CDELT1  =         -0.001388889                                                  \n",
        "CDELT2  =          0.001388889                                                  \n",
        "CROTA2  =             0.000000                                                  \n",
        "EQUINOX =               2000.0                                                  \n",
        "MAGZP   =              20.4871                                                  \n",
        "BZERO   =               1500.0                                                  \n",
        "BSCALE  =    0.045777764213996                                                  "
       ]
      }
     ],
     "prompt_number": 3
    },
    {
     "cell_type": "code",
     "collapsed": false,
     "input": [
      "h[0].data[:2]"
     ],
     "language": "python",
     "metadata": {},
     "outputs": [
      {
       "output_type": "pyout",
       "prompt_number": 4,
       "text": [
        "array([[ 557.75628662,  520.03540039,  511.61230469,  509.82696533,\n",
        "         508.91137695,  556.10827637,  501.35809326,  520.5847168 ,\n",
        "         511.38342285,  504.2878418 ,  509.7354126 ,  517.28875732,\n",
        "         525.98651123,  566.17938232,  511.33764648,  509.36920166,\n",
        "         508.45361328,  522.37005615,  527.86340332,  498.38250732],\n",
        "       [ 502.68560791,  498.840271  ,  509.41497803,  509.55230713,\n",
        "         502.54827881,  501.35809326,  506.71405029,  497.14654541,\n",
        "         499.93896484,  541.73406982,  496.59716797,  503.60119629,\n",
        "         507.72119141,  518.25006104,  513.35186768,  500.85449219,\n",
        "         507.49230957,  523.37719727,  505.29498291,  510.33050537]], dtype=float32)"
       ]
      }
     ],
     "prompt_number": 4
    },
    {
     "cell_type": "code",
     "collapsed": false,
     "input": [
      "transformation = lambda v: 1500.0 + 0.045777764213996 * v\n",
      "\n",
      "class FitsData(object):\n",
      "    _default_bscale = 1.0\n",
      "    _default_bzero = 0.0\n",
      "    \n",
      "    def __init__(self, data, bscale=None, bzero=None):\n",
      "        super(FitsData, self).__init__()\n",
      "        self._data = data\n",
      "        self._bscale = bscale\n",
      "        self._bzero = bzero\n",
      "        \n",
      "    def __repr__(self):\n",
      "        return '%s(%s)' % (self.__class__.__name__, self.transformation(self._data))\n",
      "        \n",
      "    def __getitem__(self, index):\n",
      "        return self.__class__(self._data[index], bscale=self._bscale, bzero=self._bzero)\n",
      "    \n",
      "    def __array__(self):\n",
      "        return np.asarray(self.transformation(self._data))\n",
      "    \n",
      "    def transformation(self, v):\n",
      "        return v * self._bscale + self._bzero\n",
      "    \n",
      "    @property\n",
      "    def data(self):\n",
      "        return self._data\n",
      "    \n",
      "    @property\n",
      "    def dtype(self):\n",
      "        return np.dtype('float64')\n",
      "    \n",
      "    @property\n",
      "    def bscale(self):\n",
      "        return self._bscale\n",
      "        \n",
      "    @property\n",
      "    def bzero(self):\n",
      "        return self._bzero"
     ],
     "language": "python",
     "metadata": {},
     "outputs": [],
     "prompt_number": 95
    },
    {
     "cell_type": "code",
     "collapsed": false,
     "input": [
      "h2 = pyfits.open('lib/pyfits/tests/data/scale.fits', do_not_scale_image_data=True)"
     ],
     "language": "python",
     "metadata": {},
     "outputs": [],
     "prompt_number": 96
    },
    {
     "cell_type": "code",
     "collapsed": false,
     "input": [
      "data = h2[0].data\n",
      "scaled = FitsData(data, bscale=0.045777764213996, bzero=1500.0)"
     ],
     "language": "python",
     "metadata": {},
     "outputs": [],
     "prompt_number": 97
    },
    {
     "cell_type": "code",
     "collapsed": false,
     "input": [
      "scaled[0,0]"
     ],
     "language": "python",
     "metadata": {},
     "outputs": [
      {
       "output_type": "pyout",
       "prompt_number": 101,
       "text": [
        "FitsData(557.756279183)"
       ]
      }
     ],
     "prompt_number": 101
    },
    {
     "cell_type": "code",
     "collapsed": false,
     "input": [
      "print np.sin(scaled[0])"
     ],
     "language": "python",
     "metadata": {},
     "outputs": [
      {
       "output_type": "stream",
       "stream": "stdout",
       "text": [
        "Calling __array__\n",
        "[-0.99237331 -0.99482109  0.45048604  0.77641054 -0.02660198 -0.04636336\n",
        " -0.96268397 -0.79538702  0.64130549  0.99806436  0.71553849  0.87913887\n",
        " -0.97360739  0.63862504  0.675746    0.4179363  -0.46566221  0.76154067\n",
        "  0.07576069  0.90471614]\n"
       ]
      }
     ],
     "prompt_number": 105
    },
    {
     "cell_type": "code",
     "collapsed": false,
     "input": [
      "x = scaled[0]"
     ],
     "language": "python",
     "metadata": {},
     "outputs": [
      {
       "output_type": "stream",
       "stream": "stdout",
       "text": [
        "Calling __array_finalize__ <type 'NoneType'>\n"
       ]
      }
     ],
     "prompt_number": 36
    },
    {
     "cell_type": "code",
     "collapsed": false,
     "input": [
      "x.bzero"
     ],
     "language": "python",
     "metadata": {},
     "outputs": [
      {
       "output_type": "pyout",
       "prompt_number": 10,
       "text": [
        "1500.0"
       ]
      }
     ],
     "prompt_number": 10
    },
    {
     "cell_type": "code",
     "collapsed": false,
     "input": [
      "scaled.dtype"
     ],
     "language": "python",
     "metadata": {},
     "outputs": [
      {
       "output_type": "pyout",
       "prompt_number": 11,
       "text": [
        "dtype('float64')"
       ]
      }
     ],
     "prompt_number": 11
    },
    {
     "cell_type": "code",
     "collapsed": false,
     "input": [
      "x"
     ],
     "language": "python",
     "metadata": {},
     "outputs": [
      {
       "output_type": "stream",
       "stream": "stdout",
       "text": [
        "Calling __array_finalize__ <type 'NoneType'>\n",
        "Calling __array_finalize__ <class '__main__.FitsData'>\n",
        "Calling __array_finalize__ <class '__main__.FitsData'>\n",
        "Calling __array_finalize__ <class '__main__.FitsData'>\n",
        "Calling __array_finalize__ <class '__main__.FitsData'>\n",
        "Calling __array_finalize__ <type 'NoneType'>\n",
        "Calling __array_finalize__ <class '__main__.FitsData'>\n",
        "Calling __array_finalize__ <class '__main__.FitsData'>\n",
        "Calling __array_finalize__ <class '__main__.FitsData'>\n",
        "Calling __array_finalize__ <class '__main__.FitsData'>\n",
        "Calling __array_finalize__ <type 'NoneType'>\n",
        "Calling __array_finalize__ <class '__main__.FitsData'>\n",
        "Calling __array_finalize__ <class '__main__.FitsData'>\n",
        "Calling __array_finalize__ <class '__main__.FitsData'>\n",
        "Calling __array_finalize__ <class '__main__.FitsData'>\n",
        "Calling __array_finalize__ <type 'NoneType'>\n",
        "Calling __array_finalize__ <class '__main__.FitsData'>\n",
        "Calling __array_finalize__ <class '__main__.FitsData'>\n",
        "Calling __array_finalize__ <class '__main__.FitsData'>\n",
        "Calling __array_finalize__ <class '__main__.FitsData'>\n",
        "Calling __array_finalize__ <type 'NoneType'>\n",
        "Calling __array_finalize__ <class '__main__.FitsData'>\n",
        "Calling __array_finalize__ <class '__main__.FitsData'>\n",
        "Calling __array_finalize__ <class '__main__.FitsData'>\n",
        "Calling __array_finalize__ <class '__main__.FitsData'>\n",
        "Calling __array_finalize__ <type 'NoneType'>\n",
        "Calling __array_finalize__ <class '__main__.FitsData'>\n",
        "Calling __array_finalize__ <class '__main__.FitsData'>\n",
        "Calling __array_finalize__ <class '__main__.FitsData'>\n",
        "Calling __array_finalize__ <class '__main__.FitsData'>\n",
        "Calling __array_finalize__ <type 'NoneType'>\n",
        "Calling __array_finalize__ <class '__main__.FitsData'>\n",
        "Calling __array_finalize__ <class '__main__.FitsData'>\n",
        "Calling __array_finalize__ <class '__main__.FitsData'>\n",
        "Calling __array_finalize__ <class '__main__.FitsData'>\n",
        "Calling __array_finalize__ <type 'NoneType'>\n",
        "Calling __array_finalize__ <class '__main__.FitsData'>\n",
        "Calling __array_finalize__ <class '__main__.FitsData'>\n",
        "Calling __array_finalize__ <class '__main__.FitsData'>\n",
        "Calling __array_finalize__ <class '__main__.FitsData'>\n",
        "Calling __array_finalize__ <type 'NoneType'>\n",
        "Calling __array_finalize__ <class '__main__.FitsData'>\n",
        "Calling __array_finalize__ <class '__main__.FitsData'>\n",
        "Calling __array_finalize__ <class '__main__.FitsData'>\n",
        "Calling __array_finalize__ <class '__main__.FitsData'>\n",
        "Calling __array_finalize__ <type 'NoneType'>\n",
        "Calling __array_finalize__ <class '__main__.FitsData'>\n",
        "Calling __array_finalize__ <class '__main__.FitsData'>\n",
        "Calling __array_finalize__ <class '__main__.FitsData'>\n",
        "Calling __array_finalize__ <class '__main__.FitsData'>\n",
        "Calling __array_finalize__ <type 'NoneType'>\n",
        "Calling __array_finalize__ <class '__main__.FitsData'>\n",
        "Calling __array_finalize__ <class '__main__.FitsData'>\n",
        "Calling __array_finalize__ <class '__main__.FitsData'>\n",
        "Calling __array_finalize__ <class '__main__.FitsData'>\n",
        "Calling __array_finalize__ <type 'NoneType'>\n",
        "Calling __array_finalize__ <class '__main__.FitsData'>\n",
        "Calling __array_finalize__ <class '__main__.FitsData'>\n",
        "Calling __array_finalize__ <class '__main__.FitsData'>\n",
        "Calling __array_finalize__ <class '__main__.FitsData'>\n",
        "Calling __array_finalize__ <type 'NoneType'>\n",
        "Calling __array_finalize__ <class '__main__.FitsData'>\n",
        "Calling __array_finalize__ <class '__main__.FitsData'>\n",
        "Calling __array_finalize__ <class '__main__.FitsData'>\n",
        "Calling __array_finalize__ <class '__main__.FitsData'>\n",
        "Calling __array_finalize__ <type 'NoneType'>\n",
        "Calling __array_finalize__ <class '__main__.FitsData'>\n",
        "Calling __array_finalize__ <class '__main__.FitsData'>\n",
        "Calling __array_finalize__ <class '__main__.FitsData'>\n",
        "Calling __array_finalize__ <class '__main__.FitsData'>\n",
        "Calling __array_finalize__ <type 'NoneType'>\n",
        "Calling __array_finalize__ <class '__main__.FitsData'>\n",
        "Calling __array_finalize__ <class '__main__.FitsData'>\n",
        "Calling __array_finalize__ <class '__main__.FitsData'>\n",
        "Calling __array_finalize__ <class '__main__.FitsData'>\n",
        "Calling __array_finalize__ <type 'NoneType'>\n",
        "Calling __array_finalize__ <class '__main__.FitsData'>\n",
        "Calling __array_finalize__ <class '__main__.FitsData'>\n",
        "Calling __array_finalize__ <class '__main__.FitsData'>\n",
        "Calling __array_finalize__ <class '__main__.FitsData'>\n",
        "Calling __array_finalize__ <type 'NoneType'>\n",
        "Calling __array_finalize__ <class '__main__.FitsData'>\n",
        "Calling __array_finalize__ <class '__main__.FitsData'>\n",
        "Calling __array_finalize__ <class '__main__.FitsData'>\n",
        "Calling __array_finalize__ <class '__main__.FitsData'>\n",
        "Calling __array_finalize__ <type 'NoneType'>\n",
        "Calling __array_finalize__ <class '__main__.FitsData'>\n",
        "Calling __array_finalize__ <class '__main__.FitsData'>\n",
        "Calling __array_finalize__ <class '__main__.FitsData'>\n",
        "Calling __array_finalize__ <class '__main__.FitsData'>\n",
        "Calling __array_finalize__ <type 'NoneType'>\n",
        "Calling __array_finalize__ <class '__main__.FitsData'>\n",
        "Calling __array_finalize__ <class '__main__.FitsData'>\n",
        "Calling __array_finalize__ <class '__main__.FitsData'>\n",
        "Calling __array_finalize__ <class '__main__.FitsData'>\n",
        "Calling __array_finalize__ <type 'NoneType'>\n",
        "Calling __array_finalize__ <class '__main__.FitsData'>\n",
        "Calling __array_finalize__ <class '__main__.FitsData'>\n",
        "Calling __array_finalize__ <class '__main__.FitsData'>\n",
        "Calling __array_finalize__ <class '__main__.FitsData'>\n"
       ]
      },
      {
       "output_type": "pyout",
       "prompt_number": 12,
       "text": [
        "FitsData([-20583., -21407., -21591., -21630., -21650., -20619., -21815.,\n",
        "       -21395., -21596., -21751., -21632., -21467., -21277., -20399.,\n",
        "       -21597., -21640., -21660., -21356., -21236., -21880.])"
       ]
      }
     ],
     "prompt_number": 12
    },
    {
     "cell_type": "code",
     "collapsed": false,
     "input": [
      "ss = x[:3]"
     ],
     "language": "python",
     "metadata": {},
     "outputs": [
      {
       "output_type": "stream",
       "stream": "stdout",
       "text": [
        "Calling __array_finalize__ <class '__main__.FitsData'>\n"
       ]
      }
     ],
     "prompt_number": 13
    },
    {
     "cell_type": "code",
     "collapsed": false,
     "input": [
      "ss.shape"
     ],
     "language": "python",
     "metadata": {},
     "outputs": [
      {
       "output_type": "pyout",
       "prompt_number": 14,
       "text": [
        "(3,)"
       ]
      }
     ],
     "prompt_number": 14
    },
    {
     "cell_type": "code",
     "collapsed": false,
     "input": [
      "data.__array_interface__"
     ],
     "language": "python",
     "metadata": {},
     "outputs": [
      {
       "output_type": "pyout",
       "prompt_number": 109,
       "text": [
        "{'data': (54990464, False),\n",
        " 'descr': [('', '>i2')],\n",
        " 'shape': (21, 20),\n",
        " 'strides': None,\n",
        " 'typestr': '>i2',\n",
        " 'version': 3}"
       ]
      }
     ],
     "prompt_number": 109
    },
    {
     "cell_type": "code",
     "collapsed": false,
     "input": [],
     "language": "python",
     "metadata": {},
     "outputs": []
    }
   ],
   "metadata": {}
  }
 ]
}